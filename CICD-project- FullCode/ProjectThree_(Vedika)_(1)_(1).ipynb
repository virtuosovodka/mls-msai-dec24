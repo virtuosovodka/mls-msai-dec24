{
  "cells": [
    {
      "cell_type": "markdown",
      "source": [
        "## **Problem Statement**"
      ],
      "metadata": {}
    },
    {
      "cell_type": "markdown",
      "source": [
        "### **Business Context**"
      ],
      "metadata": {}
    },
    {
      "cell_type": "markdown",
      "source": [
        "An automobile dealership in Los Vegas specializes in selling luxury and non-luxury vehicles. They cater to diverse customer preferences with varying vehicle specifications, such as mileage, engine capacity, and seating capacity. However, the dealership faces significant challenges in maintaining consistency and efficiency across its pricing strategy due to reliance on manual processes and disconnected systems. Pricing evaluations are prone to errors, updates are delayed, and scaling operations are difficult as demand grows. These inefficiencies impact revenue and customer trust. Recognizing the need for a reliable and scalable solution, the dealership is seeking to implement a unified system that ensures seamless integration of data-driven pricing decisions, adaptability to changing market conditions, and operational efficiency."
      ],
      "metadata": {}
    },
    {
      "cell_type": "markdown",
      "source": [
        "### **Objective**"
      ],
      "metadata": {}
    },
    {
      "cell_type": "markdown",
      "source": [
        "The dealership has hired you as an MLOps Engineer to design and implement an MLOps pipeline that automates the pricing workflow. This pipeline will encompass data cleaning, preprocessing, transformation, model building, training, evaluation, and registration with CI/CD capabilities to ensure continuous integration and delivery. Your role is to overcome challenges such as integrating disparate data sources, maintaining consistent model performance, and enabling scalable, automated updates to meet evolving business needs. The expected outcomes are a robust, automated system that improves pricing accuracy, operational efficiency, and scalability, driving increased profitability and customer satisfaction."
      ],
      "metadata": {}
    },
    {
      "cell_type": "markdown",
      "source": [
        "### **Data Description**"
      ],
      "metadata": {}
    },
    {
      "cell_type": "markdown",
      "source": [
        "The dataset contains attributes of used cars sold in various locations. These attributes serve as key data points for CarOnSell's pricing model. The detailed attributes are:\n",
        "\n",
        "- **Segment:** Describes the category of the vehicle, indicating whether it is a luxury or non-luxury segment.\n",
        "\n",
        "- **Kilometers_Driven:** The total number of kilometers the vehicle has been driven.\n",
        "\n",
        "- **Mileage:** The fuel efficiency of the vehicle, measured in kilometers per liter (km/l).\n",
        "\n",
        "- **Engine:** The engine capacity of the vehicle, measured in cubic centimeters (cc). \n",
        "\n",
        "- **Power:** The power of the vehicle's engine, measured in brake horsepower (BHP). \n",
        "\n",
        "- **Seats:** The number of seats in the vehicle, can influence the vehicle's classification, usage, and pricing based on customer needs.\n",
        "\n",
        "- **Price:** The price of the vehicle, listed in lakhs (units of 100,000), represents the cost to the consumer for purchasing the vehicle."
      ],
      "metadata": {}
    },
    {
      "cell_type": "markdown",
      "source": [
        "## **1. AzureML Environment Setup and Data Preparation**"
      ],
      "metadata": {}
    },
    {
      "cell_type": "markdown",
      "source": [
        "### **1.1 Connect to Azure Machine Learning Workspace**"
      ],
      "metadata": {}
    },
    {
      "cell_type": "code",
      "source": [
        "# Handle to the workspace\n",
        "from azure.ai.ml import MLClient\n",
        "\n",
        "# Authentication package\n",
        "from azure.identity import DefaultAzureCredential\n",
        "credential = DefaultAzureCredential()"
      ],
      "outputs": [],
      "execution_count": 1,
      "metadata": {
        "gather": {
          "logged": 1742751568015
        }
      }
    },
    {
      "cell_type": "code",
      "source": [
        "# Get a handle to the workspace\n",
        "ml_client = MLClient(\n",
        "    credential=credential,\n",
        "    subscription_id=\"6490c64b-602a-4887-b258-36064f4cb8d4\",\n",
        "    resource_group_name=\"default_resourse_group\",\n",
        "    workspace_name=\"demo_workspace\",\n",
        ")"
      ],
      "outputs": [],
      "execution_count": 22,
      "metadata": {
        "gather": {
          "logged": 1742752889512
        }
      }
    },
    {
      "cell_type": "markdown",
      "source": [
        "### **1.2 Set Up Compute Cluster**"
      ],
      "metadata": {}
    },
    {
      "cell_type": "code",
      "source": [
        "from azure.ai.ml.entities import AmlCompute\n",
        "\n",
        "# Name assigned to the compute cluster\n",
        "cpu_compute_target = \"cpu-cluster\"\n",
        "\n",
        "try:\n",
        "    # let's see if the compute target already exists\n",
        "    cpu_cluster = ml_client.compute.get(cpu_compute_target)\n",
        "    print(\n",
        "        f\"You already have a cluster named {cpu_compute_target}, we'll reuse it as is.\"\n",
        "    )\n",
        "\n",
        "except Exception:\n",
        "    print(\"Creating a new cpu compute target...\")\n",
        "\n",
        "    # Let's create the Azure ML compute object with the intended parameters\n",
        "    cpu_cluster = AmlCompute(\n",
        "        name=cpu_compute_target,\n",
        "        # Azure ML Compute is the on-demand VM service\n",
        "        type=\"amlcompute\",\n",
        "        # VM Family\n",
        "        size=\"Standard_DS11_v2\",\n",
        "        # Minimum running nodes when there is no job running\n",
        "        min_instances=0,\n",
        "        # Nodes in cluster\n",
        "        max_instances=1,\n",
        "        # How many seconds will the node running after the job termination\n",
        "        idle_time_before_scale_down=180,\n",
        "        # Dedicated or LowPriority. The latter is cheaper but there is a chance of job termination\n",
        "        tier=\"Dedicated\",\n",
        "    )\n",
        "\n",
        "    # Now, we pass the object to MLClient's create_or_update method\n",
        "    cpu_cluster = ml_client.compute.begin_create_or_update(cpu_cluster).result()\n",
        "\n",
        "print(\n",
        "    f\"AMLCompute with name {cpu_cluster.name} is created, the compute size is {cpu_cluster.size}\"\n",
        ")"
      ],
      "outputs": [
        {
          "output_type": "stream",
          "name": "stdout",
          "text": "You already have a cluster named cpu-cluster, we'll reuse it as is.\nAMLCompute with name cpu-cluster is created, the compute size is Standard_DS11_v2\n"
        }
      ],
      "execution_count": 23,
      "metadata": {
        "gather": {
          "logged": 1742752910878
        }
      }
    },
    {
      "cell_type": "markdown",
      "source": [
        "### **1.3 Register Dataset as Data Asset**"
      ],
      "metadata": {}
    },
    {
      "cell_type": "code",
      "source": [
        "from azure.ai.ml.entities import Data\n",
        "from azure.ai.ml.constants import AssetTypes\n",
        "\n",
        "# Path to the local dataset\n",
        "local_data_path = 'used_cars.csv'\n",
        "\n",
        "# Create and register the dataset as an AzureML data asset\n",
        "data_asset = Data(\n",
        "    path=local_data_path,\n",
        "    type=AssetTypes.URI_FILE, \n",
        "    description=\"Dataset for predicting vehicle prices based on various attributes.\",\n",
        "    name=\"used-cars-data\"\n",
        ")"
      ],
      "outputs": [],
      "execution_count": 24,
      "metadata": {
        "gather": {
          "logged": 1742752935334
        }
      }
    },
    {
      "cell_type": "code",
      "source": [
        "ml_client.data.create_or_update(data_asset)"
      ],
      "outputs": [
        {
          "output_type": "execute_result",
          "execution_count": 7,
          "data": {
            "text/plain": "Data({'path': 'azureml://subscriptions/6490c64b-602a-4887-b258-36064f4cb8d4/resourcegroups/default_resourse_group/workspaces/demo_workspace/datastores/workspaceblobstore/paths/LocalUpload/2be82e6311791c3eb0847ecab5279e37/used_cars.csv', 'skip_validation': False, 'mltable_schema_url': None, 'referenced_uris': None, 'type': 'uri_file', 'is_anonymous': False, 'auto_increment_version': False, 'auto_delete_setting': None, 'name': 'used-cars-data', 'description': 'Dataset for predicting vehicle prices based on various attributes.', 'tags': {}, 'properties': {}, 'print_as_yaml': False, 'id': '/subscriptions/6490c64b-602a-4887-b258-36064f4cb8d4/resourceGroups/default_resourse_group/providers/Microsoft.MachineLearningServices/workspaces/demo_workspace/data/used-cars-data/versions/18', 'Resource__source_path': '', 'base_path': '/mnt/batch/tasks/shared/LS_root/mounts/clusters/anius/code/Users/TESTP3XHV8C5OT_1734342789061', 'creation_context': <azure.ai.ml.entities._system_data.SystemData object at 0x7f60ac93ead0>, 'serialize': <msrest.serialization.Serializer object at 0x7f60ac93dcf0>, 'version': '18', 'latest_version': None, 'datastore': None})"
          },
          "metadata": {}
        }
      ],
      "execution_count": 7,
      "metadata": {
        "gather": {
          "logged": 1742751822268
        }
      }
    },
    {
      "cell_type": "markdown",
      "source": [
        "### **1.4 Create and Configure Job Environment**"
      ],
      "metadata": {}
    },
    {
      "cell_type": "code",
      "source": [
        "# Create a directory for the preprocessing script\n",
        "import os\n",
        "\n",
        "src_dir_env = \"./env\"\n",
        "os.makedirs(src_dir_env, exist_ok=True)"
      ],
      "outputs": [],
      "execution_count": 25,
      "metadata": {
        "gather": {
          "logged": 1742752962501
        }
      }
    },
    {
      "cell_type": "code",
      "source": [
        "%%writefile {src_dir_env}/conda.yml\n",
        "name: sklearn-env\n",
        "channels:\n",
        "  - conda-forge\n",
        "dependencies:\n",
        "  - python=3.8\n",
        "  - pip=21.2.4\n",
        "  - scikit-learn=0.23.2\n",
        "  - scipy=1.7.1\n",
        "  - pip:  \n",
        "    - mlflow==2.8.1\n",
        "    - azureml-mlflow==1.51.0\n",
        "    - azureml-inference-server-http\n",
        "    - azureml-core==1.49.0\n",
        "    - cloudpickle==1.6.0"
      ],
      "outputs": [
        {
          "output_type": "stream",
          "name": "stdout",
          "text": "Overwriting ./env/conda.yml\n"
        }
      ],
      "execution_count": 26,
      "metadata": {}
    },
    {
      "cell_type": "code",
      "source": [
        "from azure.ai.ml.entities import Environment, BuildContext\n",
        "\n",
        "env_docker_conda = Environment(\n",
        "    image=\"mcr.microsoft.com/azureml/openmpi4.1.0-ubuntu20.04\",\n",
        "    conda_file=\"env/conda.yml\",\n",
        "    name=\"machine_learning_E2E\",\n",
        "    description=\"Environment created from a Docker image plus Conda environment.\",\n",
        ")\n",
        "ml_client.environments.create_or_update(env_docker_conda)"
      ],
      "outputs": [
        {
          "output_type": "execute_result",
          "execution_count": 27,
          "data": {
            "text/plain": "Environment({'arm_type': 'environment_version', 'latest_version': None, 'image': 'mcr.microsoft.com/azureml/openmpi4.1.0-ubuntu20.04', 'intellectual_property': None, 'is_anonymous': False, 'auto_increment_version': False, 'auto_delete_setting': None, 'name': 'machine_learning_E2E', 'description': 'Environment created from a Docker image plus Conda environment.', 'tags': {}, 'properties': {'azureml.labels': 'latest'}, 'print_as_yaml': False, 'id': '/subscriptions/6490c64b-602a-4887-b258-36064f4cb8d4/resourceGroups/default_resourse_group/providers/Microsoft.MachineLearningServices/workspaces/demo_workspace/environments/machine_learning_E2E/versions/25', 'Resource__source_path': '', 'base_path': '/mnt/batch/tasks/shared/LS_root/mounts/clusters/anius/code/Users/TESTP3XHV8C5OT_1734342789061', 'creation_context': <azure.ai.ml.entities._system_data.SystemData object at 0x7f60ac872260>, 'serialize': <msrest.serialization.Serializer object at 0x7f60ac872f50>, 'version': '25', 'conda_file': {'channels': ['conda-forge'], 'dependencies': ['python=3.8', 'pip=21.2.4', 'scikit-learn=0.23.2', 'scipy=1.7.1', {'pip': ['mlflow==2.8.1', 'azureml-mlflow==1.51.0', 'azureml-inference-server-http', 'azureml-core==1.49.0', 'cloudpickle==1.6.0']}], 'name': 'sklearn-env'}, 'build': None, 'inference_config': None, 'os_type': 'Linux', 'conda_file_path': None, 'path': None, 'datastore': None, 'upload_hash': None, 'translated_conda_file': '{\\n  \"channels\": [\\n    \"conda-forge\"\\n  ],\\n  \"dependencies\": [\\n    \"python=3.8\",\\n    \"pip=21.2.4\",\\n    \"scikit-learn=0.23.2\",\\n    \"scipy=1.7.1\",\\n    {\\n      \"pip\": [\\n        \"mlflow==2.8.1\",\\n        \"azureml-mlflow==1.51.0\",\\n        \"azureml-inference-server-http\",\\n        \"azureml-core==1.49.0\",\\n        \"cloudpickle==1.6.0\"\\n      ]\\n    }\\n  ],\\n  \"name\": \"sklearn-env\"\\n}'})"
          },
          "metadata": {}
        }
      ],
      "execution_count": 27,
      "metadata": {
        "gather": {
          "logged": 1742753013752
        }
      }
    },
    {
      "cell_type": "markdown",
      "source": [
        "## **2. Model Development Workflow**"
      ],
      "metadata": {}
    },
    {
      "cell_type": "markdown",
      "source": [
        "### **2.1 Data Preparation**"
      ],
      "metadata": {}
    },
    {
      "cell_type": "markdown",
      "source": [
        "This **Data Preparation job** is designed to process an input dataset by splitting it into two parts: one for training the model and the other for testing it. The script accepts three inputs: the location of the input data (`used_cars.csv`), the ratio for splitting the data into training and testing sets (`test_train_ratio`), and the paths to save the resulting training (`train_data`) and testing (`test_data`) data. The script first reads the input CSV data from a data asset URI, then splits it using Scikit-learn's train_test_split function, and saves the two parts to the specified directories. It also logs the number of records in both the training and testing datasets using MLflow."
      ],
      "metadata": {
        "nteract": {
          "transient": {
            "deleting": false
          }
        }
      }
    },
    {
      "cell_type": "code",
      "source": [
        "# Create a directory for the preprocessing script\n",
        "import os\n",
        "\n",
        "src_dir_job_scripts = \"./data_prep\"\n",
        "os.makedirs(src_dir_job_scripts, exist_ok=True)"
      ],
      "outputs": [],
      "execution_count": 28,
      "metadata": {
        "gather": {
          "logged": 1742753036813
        }
      }
    },
    {
      "cell_type": "code",
      "source": [
        "%%writefile {src_dir_job_scripts}/data_prep.py\n",
        "\n",
        "import os\n",
        "import argparse\n",
        "import logging\n",
        "import mlflow\n",
        "import pandas as pd\n",
        "from sklearn.preprocessing import LabelEncoder\n",
        "from sklearn.model_selection import train_test_split\n",
        "\n",
        "def main():\n",
        "    # Argument parsing\n",
        "    parser = argparse.ArgumentParser()\n",
        "    parser.add_argument(\"--data\", type=str, help=\"Path to input data\")\n",
        "    parser.add_argument(\"--test_train_ratio\", type=float, default=0.2)\n",
        "    parser.add_argument(\"--train_data\", type=str, help=\"Path to save train data\")\n",
        "    parser.add_argument(\"--test_data\", type=str, help=\"Path to save test data\")\n",
        "    args = parser.parse_args()\n",
        "\n",
        "    # Start MLflow Run\n",
        "    mlflow.start_run()\n",
        "\n",
        "    # Log arguments\n",
        "    logging.info(f\"Input data path: {args.data}\")\n",
        "    logging.info(f\"Test-train ratio: {args.test_train_ratio}\")\n",
        "\n",
        "    # Read the input data\n",
        "    df = pd.read_csv(args.data)\n",
        "\n",
        "    # Encoding the categorical 'Segment' column using LabelEncoder\n",
        "    label_encoder = LabelEncoder()\n",
        "    df['Segment'] = label_encoder.fit_transform(df['Segment'])\n",
        "\n",
        "    # Log the first few rows of the dataframe after transformation\n",
        "    logging.info(f\"Transformed Data:\\n{df.head()}\")\n",
        "\n",
        "    # Split the data into training and testing sets\n",
        "    train_df, test_df = train_test_split(df, test_size=args.test_train_ratio, random_state=42)\n",
        "\n",
        "    # Save the training and testing data\n",
        "    os.makedirs(args.train_data, exist_ok=True)\n",
        "    os.makedirs(args.test_data, exist_ok=True)\n",
        "    train_df.to_csv(os.path.join(args.train_data, \"data.csv\"), index=False)\n",
        "    test_df.to_csv(os.path.join(args.test_data, \"data.csv\"), index=False)\n",
        "\n",
        "    # Log the sizes of the datasets\n",
        "    mlflow.log_metric(\"train_size\", len(train_df))\n",
        "    mlflow.log_metric(\"test_size\", len(test_df))\n",
        "    mlflow.end_run()\n",
        "\n",
        "if __name__ == \"__main__\":\n",
        "    main()"
      ],
      "outputs": [
        {
          "output_type": "stream",
          "name": "stdout",
          "text": "Overwriting ./data_prep/data_prep.py\n"
        }
      ],
      "execution_count": 29,
      "metadata": {
        "gather": {
          "logged": 1742316304768
        }
      }
    },
    {
      "cell_type": "markdown",
      "source": [
        "#### **Define Data Preparation job**"
      ],
      "metadata": {}
    },
    {
      "cell_type": "markdown",
      "source": [
        "For this AzureML job, we define the `command` object that takes input files and output directories, then executes the script with the provided inputs and outputs. The job runs in a pre-configured AzureML environment with the necessary libraries. The result will be two separate datasets for training and testing, ready for use in subsequent steps of the machine learning pipeline."
      ],
      "metadata": {}
    },
    {
      "cell_type": "code",
      "source": [
        "from azure.ai.ml import command, Input, Output\n",
        "\n",
        "step_process = command(\n",
        "    name=\"data_preparation\",\n",
        "    display_name=\"Data preparation for training\",\n",
        "    description=\"Splits the input dataset into train and test datasets\",\n",
        "    inputs={\n",
        "        \"data\": Input(type=\"uri_file\"),  # The input data path\n",
        "        \"test_train_ratio\": Input(type=\"number\"),  # Ratio for train-test split\n",
        "    },\n",
        "    outputs={\n",
        "        \"train_data\": Output(type=\"uri_folder\", mode=\"rw_mount\"),  # Train data output\n",
        "        \"test_data\": Output(type=\"uri_folder\", mode=\"rw_mount\"),  # Test data output\n",
        "    },\n",
        "    code=\"./data_prep\",  # The directory containing the script\n",
        "    command=\"\"\"python data_prep.py \\\n",
        "            --data ${{inputs.data}} \\\n",
        "            --test_train_ratio ${{inputs.test_train_ratio}} \\\n",
        "            --train_data ${{outputs.train_data}} \\\n",
        "            --test_data ${{outputs.test_data}}\"\"\",  # Command to execute the script\n",
        "    environment=\"AzureML-sklearn-1.0-ubuntu20.04-py38-cpu@latest\",  # Environment details\n",
        ")"
      ],
      "outputs": [],
      "execution_count": 30,
      "metadata": {
        "gather": {
          "logged": 1742753097935
        }
      }
    },
    {
      "cell_type": "markdown",
      "source": [
        "### **2.2 Training the Model**"
      ],
      "metadata": {}
    },
    {
      "cell_type": "markdown",
      "source": [
        "This Model Training job is designed to train a **Random Forest Regressor** on the dataset that was split into training and testing sets in the previous data preparation job. This job script accepts five inputs: the path to the training data (`train_data`), the path to the testing data (`test_data`), the number of trees in the forest (`n_estimators`, with a default value of 100), the maximum depth of the trees (`max_depth`, which is set to None by default), and the path to save the trained model (`model_output`).\n",
        "\n",
        "The script begins by reading the training and testing data files, then processes the data to separate features (X) and target labels (y). A Random Forest Regressor model is initialized using the given n_estimators and max_depth, and it is trained using the training data. The model's performance is evaluated using the `Mean Squared Error (MSE)`. The MSE score is logged in MLflow. Finally, the trained model is saved and stored in the specified output location as an MLflow model. The job completes by logging the final MSE score and ending the MLflow run.\n"
      ],
      "metadata": {
        "nteract": {
          "transient": {
            "deleting": false
          }
        }
      }
    },
    {
      "cell_type": "code",
      "source": [
        "# Create a directory for the model training script\n",
        "import os\n",
        "\n",
        "src_dir_job_scripts = \"./model_train\"\n",
        "os.makedirs(src_dir_job_scripts, exist_ok=True)"
      ],
      "outputs": [],
      "execution_count": 31,
      "metadata": {
        "gather": {
          "logged": 1742753138638
        }
      }
    },
    {
      "cell_type": "code",
      "source": [
        "%%writefile {src_dir_job_scripts}/model_train.py\n",
        "\n",
        "# Required imports for training\n",
        "import mlflow\n",
        "import argparse\n",
        "\n",
        "import os\n",
        "import pandas as pd\n",
        "\n",
        "from sklearn.ensemble import RandomForestRegressor\n",
        "from sklearn.metrics import mean_squared_error\n",
        "\n",
        "mlflow.start_run()  # Start the MLflow experiment run\n",
        "\n",
        "os.makedirs(\"./outputs\", exist_ok=True)  # Create the \"outputs\" directory if it doesn't exist\n",
        "\n",
        "def select_first_file(path):\n",
        "    \"\"\"Selects the first file in a folder, assuming there's only one file.\n",
        "    Args:\n",
        "        path (str): Path to the directory or file to choose.\n",
        "    Returns:\n",
        "        str: Full path of the selected file.\n",
        "    \"\"\"\n",
        "    files = os.listdir(path)\n",
        "    return os.path.join(path, files[0])\n",
        "\n",
        "def main():\n",
        "    parser = argparse.ArgumentParser()\n",
        "    parser.add_argument(\"--train_data\", type=str, help=\"Path to train data\")\n",
        "    parser.add_argument(\"--test_data\", type=str, help=\"Path to test data\")\n",
        "    parser.add_argument('--n_estimators', type=int, default=100, \n",
        "                        help='The number of trees in the forest')\n",
        "    parser.add_argument('--max_depth', type=int, default=None, \n",
        "                        help='The maximum depth of the tree. If None, then nodes are expanded until all the leaves contain less than min_samples_split samples.')\n",
        "    parser.add_argument(\"--model_output\", type=str, help=\"Path of output model\")\n",
        "    args = parser.parse_args()\n",
        "\n",
        "    # Load datasets\n",
        "    train_df = pd.read_csv(select_first_file(args.train_data))\n",
        "    test_df = pd.read_csv(select_first_file(args.test_data))\n",
        "\n",
        "    # Target variable: 'Price' in the new case study (Automobile Dealership Pricing)\n",
        "    y_train = train_df[\"price\"].values  # 'Price' is the target variable\n",
        "\n",
        "    # Dropping the 'Price' column from train_df to get the features\n",
        "    X_train = train_df.drop(\"price\", axis=1).values\n",
        "\n",
        "    # Target variable for testing: 'Price'\n",
        "    y_test = test_df[\"price\"].values\n",
        "\n",
        "    # Dropping the 'Price' column from test_df to get the features\n",
        "    X_test = test_df.drop(\"price\", axis=1).values\n",
        "    \n",
        "    # Initialize and train a Random Forest Regressor\n",
        "    rf_model = RandomForestRegressor(n_estimators=args.n_estimators, max_depth=args.max_depth)\n",
        "    rf_model.fit(X_train, y_train)\n",
        "    \n",
        "    # Predict using the trained model\n",
        "    rf_predictions = rf_model.predict(X_test)\n",
        "\n",
        "    # Compute the Mean Squared Error (MSE) for evaluation\n",
        "    mse = mean_squared_error(y_test, rf_predictions)\n",
        "    print(f'Mean Squared Error of RandomForestRegressor on test set: {mse:.2f}')\n",
        "    \n",
        "    # Logging the MSE metric as it is the evaluation metric for this regression task\n",
        "    mlflow.log_metric(\"MSE\", mse)\n",
        "\n",
        "    # Output the trained model\n",
        "    mlflow.sklearn.save_model(rf_model, args.model_output)\n",
        "\n",
        "    mlflow.end_run()  # Ending the MLflow experiment run\n",
        "\n",
        "if __name__ == \"__main__\":\n",
        "    main()"
      ],
      "outputs": [
        {
          "output_type": "stream",
          "name": "stdout",
          "text": "Overwriting ./model_train/model_train.py\n"
        }
      ],
      "execution_count": 32,
      "metadata": {
        "gather": {
          "logged": 1742568318408
        }
      }
    },
    {
      "cell_type": "markdown",
      "source": [
        "#### **Define Model Training Job**"
      ],
      "metadata": {}
    },
    {
      "cell_type": "markdown",
      "source": [
        "For this AzureML job, we define the `command` object that takes the paths to the training and testing data, the number of trees in the forest (`n_estimators`), and the maximum depth of the trees (`max_depth`) as inputs, and outputs the trained model. The command runs in a pre-configured AzureML environment with all the necessary libraries. The job produces a trained **Random Forest Regressor model**, which can be used for predicting the price of used cars based on the given attributes."
      ],
      "metadata": {}
    },
    {
      "cell_type": "code",
      "source": [
        "from azure.ai.ml import command, Input, Output\n",
        "\n",
        "train_step = command(\n",
        "    name=\"train_automobile_pricing_model\",  # Name of the command step for model training\n",
        "    display_name=\"Train Random Forest Regressor for Automobile Pricing Prediction\",  # Display name for the step\n",
        "    description=\"Train a Random Forest Regressor to predict automobile pricing\",  # Description of the task\n",
        "    inputs={  # Inputs required for the command\n",
        "        \"train_data\": Input(type=\"uri_folder\"),  # Path to the training data (folder with CSV file)\n",
        "        \"test_data\": Input(type=\"uri_folder\"),  # Path to the testing data (folder with CSV file)\n",
        "        \"n_estimators\": Input(type=\"number\", default=100),  # Number of trees in the Random Forest\n",
        "        \"max_depth\": Input(type=\"number\", default=None),  # Maximum depth of the trees\n",
        "    },\n",
        "    outputs={  # Outputs generated by the command\n",
        "        \"model_output\": Output(type=\"mlflow_model\"),  # The trained model output\n",
        "    },\n",
        "    code=\"model_train/\",  # Directory where the training script is located\n",
        "    command=\"\"\"python model_train.py \\\n",
        "            --train_data ${{inputs.train_data}} \\\n",
        "            --test_data ${{inputs.test_data}} \\\n",
        "            --n_estimators ${{inputs.n_estimators}} \\\n",
        "            --max_depth ${{inputs.max_depth}} \\\n",
        "            --model_output ${{outputs.model_output}}\"\"\",  # Command to execute\n",
        "    environment=\"AzureML-sklearn-1.0-ubuntu20.04-py38-cpu@latest\",  # Environment configuration for the training job\n",
        "    compute=\"cpu-cluster\",  # Compute target to be used for the job\n",
        ")"
      ],
      "outputs": [],
      "execution_count": 16,
      "metadata": {
        "gather": {
          "logged": 1742751891705
        }
      }
    },
    {
      "cell_type": "markdown",
      "source": [
        "### **2.3 Registering the Best Trained Model**"
      ],
      "metadata": {}
    },
    {
      "cell_type": "markdown",
      "source": [
        "The **Model Registration job** is designed to take the best-trained model from the hyperparameter tuning sweep job and register it in MLflow as a versioned artifact for future use in the used car price prediction pipeline. This job script accepts one input: the path to the trained model (model). The script begins by loading the model using the `mlflow.sklearn.load_model()` function. Afterward, it registers the model in the MLflow model registry, assigning it a descriptive name (`used_cars_price_prediction_model`) and specifying an artifact path (`random_forest_price_regressor`) where the model artifacts will be stored. Using MLflow's `log_model()` function, the model is logged along with its metadata, ensuring that the model is easily trackable and retrievable for future evaluation, deployment, or retraining."
      ],
      "metadata": {
        "nteract": {
          "transient": {
            "deleting": false
          }
        }
      }
    },
    {
      "cell_type": "code",
      "source": [
        "# Create a directory for the preprocessing script\n",
        "import os\n",
        "\n",
        "src_dir_job_scripts = \"./model_register\"\n",
        "os.makedirs(src_dir_job_scripts, exist_ok=True)"
      ],
      "outputs": [],
      "execution_count": 33,
      "metadata": {
        "gather": {
          "logged": 1742753245987
        }
      }
    },
    {
      "cell_type": "code",
      "source": [
        "%%writefile {src_dir_job_scripts}/model_register.py\n",
        "\n",
        "import os\n",
        "import argparse\n",
        "import logging\n",
        "import mlflow\n",
        "import pandas as pd\n",
        "from pathlib import Path\n",
        "\n",
        "mlflow.start_run()  # Start the MLflow experiment run\n",
        "\n",
        "def main():\n",
        "    # Argument parser setup for command line arguments\n",
        "    parser = argparse.ArgumentParser()\n",
        "    parser.add_argument(\"--model\", type=str, help=\"Path to the trained model\")  # Path to the trained model artifact\n",
        "    args = parser.parse_args()\n",
        "\n",
        "    # Load the trained model from the provided path\n",
        "    model = mlflow.sklearn.load_model(args.model)\n",
        "\n",
        "    print(\"Registering the best trained automobile pricing prediction model\")\n",
        "    \n",
        "    # Register the model in the MLflow Model Registry under the name \"automobile_pricing_model\"\n",
        "    mlflow.sklearn.log_model(\n",
        "        sk_model=model,\n",
        "        registered_model_name=\"automobile_pricing_model\",  # Descriptive model name for registration\n",
        "        artifact_path=\"random_forest_pricing_regressor\"  # Path to store model artifacts\n",
        "    )\n",
        "\n",
        "    # End the MLflow run\n",
        "    mlflow.end_run()\n",
        "\n",
        "if __name__ == \"__main__\":\n",
        "    main()"
      ],
      "outputs": [
        {
          "output_type": "stream",
          "name": "stdout",
          "text": "Overwriting ./model_register/model_register.py\n"
        }
      ],
      "execution_count": 34,
      "metadata": {
        "gather": {
          "logged": 1742486248839
        }
      }
    },
    {
      "cell_type": "markdown",
      "source": [
        "#### **Define Model Register Job**"
      ],
      "metadata": {}
    },
    {
      "cell_type": "markdown",
      "source": [
        "For this AzureML job, a `command` object is defined to execute the `model_register.py` script. It accepts the best-trained model as input, runs the script in the `AzureML-sklearn-1.0-ubuntu20.04-py38-cpu` environment, and uses the same compute cluster as the previous jobs (`cpu-cluster`). This job plays a crucial role in the pipeline by ensuring that the best-performing model identified during hyperparameter tuning is systematically stored and made available in the MLflow registry for further evaluation, deployment, or retraining. Integrating this job into the end-to-end pipeline automates the process of registering high-quality models, completing the model development lifecycle and enabling the prediction of used car prices."
      ],
      "metadata": {
        "nteract": {
          "transient": {
            "deleting": false
          }
        }
      }
    },
    {
      "cell_type": "code",
      "source": [
        "from azure.ai.ml import command, Input\n",
        "\n",
        "model_register_component = command(\n",
        "    name=\"register_model\",  # Name of the command step for registering the model\n",
        "    display_name=\"Register Model\",  # Display name for the step\n",
        "    description=\"Use the best trained model from previous job to register it as a model in MLflow\",  # Description\n",
        "    inputs={  # Inputs required for the command\n",
        "        \"model\": Input(type=\"mlflow_model\"),  # Path to the best trained model\n",
        "    },\n",
        "    code=\"model_register/\",  # Directory where the model registration script is located\n",
        "    command=\"\"\"python model_register.py \\\n",
        "            --model ${{inputs.model}}\"\"\",  # Command to run the registration script\n",
        "    environment=\"used-cars-train-env@latest\",  # Environment configuration for the job\n",
        "    compute=\"cpu-cluster\",  # Compute target to be used for the job\n",
        ")"
      ],
      "outputs": [],
      "execution_count": 35,
      "metadata": {
        "gather": {
          "logged": 1742753312940
        }
      }
    },
    {
      "cell_type": "markdown",
      "source": [
        "### **2.4. Assembling the End-to-End Workflow**"
      ],
      "metadata": {}
    },
    {
      "cell_type": "markdown",
      "source": [
        "The end-to-end pipeline integrates all the previously defined jobs into a seamless workflow, automating the process of data preparation, model training, hyperparameter tuning, and model registration. The pipeline is designed using Azure Machine Learning's `@pipeline` decorator, specifying the compute target and providing a detailed description of the workflow."
      ],
      "metadata": {}
    },
    {
      "cell_type": "code",
      "source": [
        "from azure.ai.ml.sweep import Choice\n",
        "from azure.ai.ml.entities import Model\n",
        "from azure.ai.ml.constants import ModelType\n",
        "from azure.ai.ml.dsl import pipeline\n",
        "\n",
        "# Assemble the pipeline by chaining the jobs\n",
        "@pipeline(\n",
        "    compute=\"cpu-cluster\",  # Compute target for the pipeline\n",
        "    description=\"Pipeline for data preparation, training, prediction, and model registration\",\n",
        ")\n",
        "def complete_pipeline(input_data_uri, test_train_ratio, n_estimators, max_depth):\n",
        "    # Step 1: Preprocess the data\n",
        "    preprocess_step = step_process(data=input_data_uri, test_train_ratio=test_train_ratio)\n",
        "    \n",
        "    # Step 2: Train the model using preprocessed data\n",
        "    training_step = train_step(train_data=preprocess_step.outputs.train_data, test_data=preprocess_step.outputs.test_data, n_estimators=n_estimators, max_depth=max_depth)\n",
        "    \n",
        "    # Define the training step with hyperparameters for tuning\n",
        "    job_for_sweep = training_step(\n",
        "        n_estimators=Choice(values=[50, 100, 150]),\n",
        "        max_depth=Choice(values=[5, 10, 20, None]),\n",
        "    )\n",
        "\n",
        "    # Define the sweep job\n",
        "    sweep_job = job_for_sweep.sweep(\n",
        "        compute=\"cpu-cluster\",\n",
        "        sampling_algorithm=\"random\",\n",
        "        primary_metric=\"MSE\",  # Using MLS (Mean Log Squared Error) as the primary metric\n",
        "        goal=\"Minimize\",  # Goal is to minimize MLS\n",
        "    )\n",
        "\n",
        "    # Set the limits for the sweep job:\n",
        "    sweep_job.set_limits(max_total_trials=20, max_concurrent_trials=10, timeout=7200)\n",
        "    \n",
        "    # Step 3: Register the best model\n",
        "    # After the sweep job, get the best model\n",
        "    model_register_step = model_register_component(\n",
        "        model=sweep_job.outputs.model_output,  # Best model from sweep job\n",
        "    )\n",
        "    \n",
        "    # Returning outputs from all steps in the pipeline\n",
        "    return {\n",
        "        \"pipeline_job_train_data\": preprocess_step.outputs.train_data,\n",
        "        \"pipeline_job_test_data\": preprocess_step.outputs.test_data,\n",
        "        \"pipeline_job_best_model\": sweep_job.outputs.model_output,  # Best model from sweep job\n",
        "    }"
      ],
      "outputs": [],
      "execution_count": 36,
      "metadata": {
        "gather": {
          "logged": 1742753373539
        }
      }
    },
    {
      "cell_type": "code",
      "source": [
        "# The code retrieves a specific version of a registered data asset using the ml_client object.\n",
        "data_path = ml_client.data.get(\"used-cars-data\", version=\"1\").path # Provide the name of the data asset"
      ],
      "outputs": [],
      "execution_count": 37,
      "metadata": {
        "gather": {
          "logged": 1742753401100
        }
      }
    },
    {
      "cell_type": "code",
      "source": [
        "# Create pipeline instance\n",
        "pipeline_instance = complete_pipeline(\n",
        "    input_data_uri=Input(type=\"uri_file\", path=data_path),  # Dataset path\n",
        "    test_train_ratio=0.25,  # Test-train ratio\n",
        "    n_estimators=100,      # Initial value for n_estimators\n",
        "    max_depth=10           # Initial value for max depth\n",
        ")\n",
        "# Submit the pipeline to Azure ML\n",
        "pipeline_job = ml_client.jobs.create_or_update(\n",
        "    pipeline_instance, \n",
        "    experiment_name=\"random_forest_training_pipeline\"\n",
        ")\n",
        "\n",
        "# Stream the output of the job for real-time logs\n",
        "ml_client.jobs.stream(pipeline_job.name)\n"
      ],
      "outputs": [
        {
          "output_type": "stream",
          "name": "stderr",
          "text": "Class AutoDeleteSettingSchema: This is an experimental class, and may change at any time. Please see https://aka.ms/azuremlexperimental for more information.\nClass AutoDeleteConditionSchema: This is an experimental class, and may change at any time. Please see https://aka.ms/azuremlexperimental for more information.\nClass BaseAutoDeleteSettingSchema: This is an experimental class, and may change at any time. Please see https://aka.ms/azuremlexperimental for more information.\nClass IntellectualPropertySchema: This is an experimental class, and may change at any time. Please see https://aka.ms/azuremlexperimental for more information.\nClass ProtectionLevelSchema: This is an experimental class, and may change at any time. Please see https://aka.ms/azuremlexperimental for more information.\nClass BaseIntellectualPropertySchema: This is an experimental class, and may change at any time. Please see https://aka.ms/azuremlexperimental for more information.\npathOnCompute is not a known attribute of class <class 'azure.ai.ml._restclient.v2023_04_01_preview.models._models_py3.MLFlowModelJobOutput'> and will be ignored\npathOnCompute is not a known attribute of class <class 'azure.ai.ml._restclient.v2023_04_01_preview.models._models_py3.UriFolderJobOutput'> and will be ignored\npathOnCompute is not a known attribute of class <class 'azure.ai.ml._restclient.v2023_04_01_preview.models._models_py3.UriFolderJobOutput'> and will be ignored\npathOnCompute is not a known attribute of class <class 'azure.ai.ml._restclient.v2023_04_01_preview.models._models_py3.MLFlowModelJobOutput'> and will be ignored\n"
        },
        {
          "output_type": "stream",
          "name": "stdout",
          "text": "RunId: amusing_candle_l18wx2vpb2\nWeb View: https://ml.azure.com/runs/amusing_candle_l18wx2vpb2?wsid=/subscriptions/6490c64b-602a-4887-b258-36064f4cb8d4/resourcegroups/default_resourse_group/workspaces/demo_workspace\n\nStreaming logs/azureml/executionlogs.txt\n========================================\n\n[2025-03-23 18:11:37Z] Completing processing run id 0b790c10-9667-45c2-a88e-fe204f5e4cf0.\n[2025-03-23 18:11:38Z] Completing processing run id 78fa7295-d2d7-4886-b135-40576129ca88.\n[2025-03-23 18:11:38Z] Completing processing run id cde02be4-4634-45b5-9aa6-66c5b7778e91.\n[2025-03-23 18:11:40Z] Completing processing run id 68b3ef89-bf7d-4bea-a465-80ddf83af70f.\n[2025-03-23 18:11:40Z] Finishing experiment: no runs left and nothing to schedule.\n\nExecution Summary\n=================\nRunId: amusing_candle_l18wx2vpb2\nWeb View: https://ml.azure.com/runs/amusing_candle_l18wx2vpb2?wsid=/subscriptions/6490c64b-602a-4887-b258-36064f4cb8d4/resourcegroups/default_resourse_group/workspaces/demo_workspace\n\n"
        }
      ],
      "execution_count": 38,
      "metadata": {
        "gather": {
          "logged": 1742753502361
        }
      }
    },
    {
      "cell_type": "code",
      "source": [
        "# Access pipeline outputs (optional, after job completion)\n",
        "print(f\"Train data location: {pipeline_job.outputs['pipeline_job_train_data']}\")\n",
        "print(f\"Test data location: {pipeline_job.outputs['pipeline_job_test_data']}\")\n",
        "print(f\"Best model location: {pipeline_job.outputs['pipeline_job_best_model']}\")"
      ],
      "outputs": [],
      "execution_count": null,
      "metadata": {
        "gather": {
          "logged": 1742486070922
        }
      }
    },
    {
      "cell_type": "code",
      "source": [
        "pip install --upgrade azure-ai-ml\n"
      ],
      "outputs": [],
      "execution_count": null,
      "metadata": {
        "gather": {
          "logged": 1742316268770
        }
      }
    }
  ],
  "metadata": {
    "kernel_info": {
      "name": "python310-sdkv2"
    },
    "kernelspec": {
      "name": "python310-sdkv2",
      "language": "python",
      "display_name": "Python 3.10 - SDK v2"
    },
    "language_info": {
      "name": "python",
      "version": "3.10.14",
      "mimetype": "text/x-python",
      "codemirror_mode": {
        "name": "ipython",
        "version": 3
      },
      "pygments_lexer": "ipython3",
      "nbconvert_exporter": "python",
      "file_extension": ".py"
    },
    "microsoft": {
      "host": {
        "AzureML": {
          "notebookHasBeenCompleted": true
        }
      },
      "ms_spell_check": {
        "ms_spell_check_language": "en"
      }
    },
    "nteract": {
      "version": "nteract-front-end@1.0.0"
    }
  },
  "nbformat": 4,
  "nbformat_minor": 2
}